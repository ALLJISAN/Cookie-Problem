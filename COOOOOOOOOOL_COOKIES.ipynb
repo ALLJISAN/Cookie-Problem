{
 "cells": [
  {
   "cell_type": "code",
   "execution_count": 63,
   "metadata": {
    "collapsed": true
   },
   "outputs": [],
   "source": [
    "from thinkbayes import Pmf"
   ]
  },
  {
   "cell_type": "code",
   "execution_count": 86,
   "metadata": {},
   "outputs": [],
   "source": [
    "class Bowl():\n",
    "    def __init__(self,bowl):\n",
    "        total=100\n",
    "        if bowl==1:\n",
    "            self.vanilla=75\n",
    "            self.chocolate=25\n",
    "        if bowl==2:\n",
    "            self.vanilla=50\n",
    "            self.chocolate=50\n",
    "    def get_bowl_prob(self):\n",
    "        self.vanilla_prob=float(self.vanilla)/(self.vanilla+self.chocolate)\n",
    "        self.chocolate_prob=float(self.chocolate)/(self.vanilla+self.chocolate)\n",
    "    def MM_change(self):\n",
    "        self.vanilla-=1 \n",
    "            \n",
    "            \n",
    "class Cookie(Pmf,Bowl):\n",
    "    def __init__(self,hypos):\n",
    "        Pmf.__init__(self)\n",
    "        for hypo_k,hypo_v in hypos.items():\n",
    "            self.Set(hypo_k,1)\n",
    "        self.Normalize()\n",
    "        \n",
    "    def Update(self,data,hypos):\n",
    "        for hypo in self.Values():\n",
    "            like=self.LikeHood(data,hypo,hypos)\n",
    "            self.Mult(hypo,like)\n",
    "        for k,v in hypos.items():\n",
    "            print \"Bow 1 :vanilla {}   chocolate{}\".format(v.vanilla_prob,v.chocolate_prob)\n",
    "            v.MM_change()\n",
    "            \n",
    "        self.Normalize()\n",
    "    def LikeHood(self,data,hypo,hypos):\n",
    "        if data=='vanilla':\n",
    "            mix=hypos[hypo]\n",
    "            like=mix.vanilla_prob\n",
    "        if data=='chocolate':\n",
    "            mix=hypos[hypo]\n",
    "            like=mix.chocolate_prob\n",
    "        return like"
   ]
  },
  {
   "cell_type": "code",
   "execution_count": 87,
   "metadata": {
    "scrolled": true
   },
   "outputs": [
    {
     "name": "stdout",
     "output_type": "stream",
     "text": [
      "第 0 次拿\n",
      "Bow 1 :vanilla 0.5   chocolate0.5\n",
      "Bow 1 :vanilla 0.75   chocolate0.25\n",
      "Bowl 2 0.4\n",
      "Bowl 1 0.6\n",
      "第 1 次拿\n",
      "Bow 1 :vanilla 0.5   chocolate0.5\n",
      "Bow 1 :vanilla 0.75   chocolate0.25\n",
      "Bowl 2 0.307692307692\n",
      "Bowl 1 0.692307692308\n",
      "第 2 次拿\n",
      "Bow 1 :vanilla 0.5   chocolate0.5\n",
      "Bow 1 :vanilla 0.75   chocolate0.25\n",
      "Bowl 2 0.228571428571\n",
      "Bowl 1 0.771428571429\n"
     ]
    }
   ],
   "source": [
    "Bow1=Bowl(1)\n",
    "Bow1.get_bowl_prob()\n",
    "Bow2=Bowl(2)\n",
    "Bow2.get_bowl_prob()\n",
    "hypos={'Bowl 1':Bow1,'Bowl 2':Bow2}\n",
    "pmf=Cookie(hypos)\n",
    "for i in range(3):\n",
    "    print \"第 {} 次拿\".format(i)\n",
    "    pmf.Update('vanilla',hypos)\n",
    "    for hypo,prob in pmf.Items():\n",
    "        print hypo,prob"
   ]
  }
 ],
 "metadata": {
  "kernelspec": {
   "display_name": "Python 2",
   "language": "python",
   "name": "python2"
  },
  "language_info": {
   "codemirror_mode": {
    "name": "ipython",
    "version": 2
   },
   "file_extension": ".py",
   "mimetype": "text/x-python",
   "name": "python",
   "nbconvert_exporter": "python",
   "pygments_lexer": "ipython2",
   "version": "2.7.13"
  }
 },
 "nbformat": 4,
 "nbformat_minor": 2
}
